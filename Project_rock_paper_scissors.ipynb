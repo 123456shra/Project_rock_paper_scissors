{
 "cells": [
  {
   "cell_type": "code",
   "execution_count": null,
   "id": "91a62d33-2921-4b90-9f92-9d1668407b57",
   "metadata": {},
   "outputs": [
    {
     "name": "stdin",
     "output_type": "stream",
     "text": [
      "Type rock/paper/scissors or q for quit rock\n"
     ]
    },
    {
     "name": "stdout",
     "output_type": "stream",
     "text": [
      "computer picked paper.\n",
      "you lost\n"
     ]
    },
    {
     "name": "stdin",
     "output_type": "stream",
     "text": [
      "Type rock/paper/scissors or q for quit paper\n"
     ]
    },
    {
     "name": "stdout",
     "output_type": "stream",
     "text": [
      "computer picked rock.\n",
      "you won\n"
     ]
    },
    {
     "name": "stdin",
     "output_type": "stream",
     "text": [
      "Type rock/paper/scissors or q for quit scissors\n"
     ]
    },
    {
     "name": "stdout",
     "output_type": "stream",
     "text": [
      "computer picked rock.\n",
      "you lost\n"
     ]
    },
    {
     "name": "stdin",
     "output_type": "stream",
     "text": [
      "Type rock/paper/scissors or q for quit rock\n"
     ]
    },
    {
     "name": "stdout",
     "output_type": "stream",
     "text": [
      "computer picked scissors.\n",
      "you won\n"
     ]
    },
    {
     "name": "stdin",
     "output_type": "stream",
     "text": [
      "Type rock/paper/scissors or q for quit rock\n"
     ]
    },
    {
     "name": "stdout",
     "output_type": "stream",
     "text": [
      "computer picked paper.\n",
      "you lost\n"
     ]
    },
    {
     "name": "stdin",
     "output_type": "stream",
     "text": [
      "Type rock/paper/scissors or q for quit paper\n"
     ]
    },
    {
     "name": "stdout",
     "output_type": "stream",
     "text": [
      "computer picked scissors.\n",
      "you lost\n"
     ]
    }
   ],
   "source": [
    "import random\n",
    "user_wins= 0\n",
    "computer_wins = 0\n",
    "options=[\"rock\",\"paper\",\"scissors\"]\n",
    "\n",
    "while True:\n",
    "    user_input= input(\"Type rock/paper/scissors or q for quit\").lower()\n",
    "    if user_input=='q':\n",
    "        break\n",
    "\n",
    "    if user_input not in options:\n",
    "        continue\n",
    "\n",
    "    random_number=random.randint(0,2)\n",
    "    computer_pick= options[random_number]\n",
    "    print(\"computer picked\", computer_pick + \".\")\n",
    "\n",
    "    if user_input==\"rock\" and computer_pick==\"scissors\":\n",
    "        print(\"you won\")\n",
    "        user_wins += 1\n",
    "\n",
    "    elif user_input==\"paper\" and computer_pick==\"rock\":\n",
    "        print(\"you won\")\n",
    "        user_wins += 1\n",
    "\n",
    "    elif user_input==\"scissors\" and computer_pick==\"paper\":\n",
    "        print(\"you won\")\n",
    "        user_wins += 1\n",
    "\n",
    "    else:\n",
    "        print(\"you lost\")\n",
    "        computer_wins +=1\n",
    "\n",
    "\n",
    "print(\"you won\", user_wins,\"times\")\n",
    "print(\"computer won\", computer_wins,\"times\")\n",
    "print(\"Good Bye!\")\n",
    "    \n",
    "    \n",
    "    "
   ]
  },
  {
   "cell_type": "code",
   "execution_count": null,
   "id": "6a2c17ce-1a63-46f8-aea7-4151ca2ec1bb",
   "metadata": {},
   "outputs": [],
   "source": []
  }
 ],
 "metadata": {
  "kernelspec": {
   "display_name": "Python 3 (ipykernel)",
   "language": "python",
   "name": "python3"
  },
  "language_info": {
   "codemirror_mode": {
    "name": "ipython",
    "version": 3
   },
   "file_extension": ".py",
   "mimetype": "text/x-python",
   "name": "python",
   "nbconvert_exporter": "python",
   "pygments_lexer": "ipython3",
   "version": "3.11.7"
  }
 },
 "nbformat": 4,
 "nbformat_minor": 5
}
